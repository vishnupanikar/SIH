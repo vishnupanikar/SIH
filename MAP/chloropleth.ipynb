{
 "cells": [
  {
   "cell_type": "code",
   "execution_count": 1,
   "metadata": {},
   "outputs": [],
   "source": [
    "import numpy as np\n",
    "import pandas as pd\n"
   ]
  },
  {
   "cell_type": "code",
   "execution_count": 2,
   "metadata": {},
   "outputs": [],
   "source": [
    "palette = tuple(reversed(palette))"
   ]
  },
  {
   "cell_type": "code",
   "execution_count": 3,
   "metadata": {
    "scrolled": true
   },
   "outputs": [
    {
     "data": {
      "text/html": [
       "<div>\n",
       "<style scoped>\n",
       "    .dataframe tbody tr th:only-of-type {\n",
       "        vertical-align: middle;\n",
       "    }\n",
       "\n",
       "    .dataframe tbody tr th {\n",
       "        vertical-align: top;\n",
       "    }\n",
       "\n",
       "    .dataframe thead th {\n",
       "        text-align: right;\n",
       "    }\n",
       "</style>\n",
       "<table border=\"1\" class=\"dataframe\">\n",
       "  <thead>\n",
       "    <tr style=\"text-align: right;\">\n",
       "      <th></th>\n",
       "      <th>State</th>\n",
       "      <th>Confirmed</th>\n",
       "      <th>Recovered</th>\n",
       "      <th>Deaths</th>\n",
       "      <th>Active</th>\n",
       "      <th>State_code</th>\n",
       "      <th>coordinates</th>\n",
       "    </tr>\n",
       "  </thead>\n",
       "  <tbody>\n",
       "    <tr>\n",
       "      <th>0</th>\n",
       "      <td>Maharashtra</td>\n",
       "      <td>12296</td>\n",
       "      <td>2000</td>\n",
       "      <td>521</td>\n",
       "      <td>9775</td>\n",
       "      <td>MH</td>\n",
       "      <td>[(73.4627026845813, 16.037102338202374), (73.4...</td>\n",
       "    </tr>\n",
       "    <tr>\n",
       "      <th>1</th>\n",
       "      <td>Gujarat</td>\n",
       "      <td>5054</td>\n",
       "      <td>896</td>\n",
       "      <td>262</td>\n",
       "      <td>3896</td>\n",
       "      <td>GJ</td>\n",
       "      <td>[(71.70375251096965, 20.999582290490366), (71....</td>\n",
       "    </tr>\n",
       "    <tr>\n",
       "      <th>2</th>\n",
       "      <td>Delhi</td>\n",
       "      <td>4122</td>\n",
       "      <td>1256</td>\n",
       "      <td>64</td>\n",
       "      <td>2802</td>\n",
       "      <td>DL</td>\n",
       "      <td>[(77.09361369721444, 28.86939745742677), (77.1...</td>\n",
       "    </tr>\n",
       "  </tbody>\n",
       "</table>\n",
       "</div>"
      ],
      "text/plain": [
       "         State  Confirmed  Recovered  Deaths  Active State_code  \\\n",
       "0  Maharashtra      12296       2000     521    9775         MH   \n",
       "1      Gujarat       5054        896     262    3896         GJ   \n",
       "2        Delhi       4122       1256      64    2802         DL   \n",
       "\n",
       "                                         coordinates  \n",
       "0  [(73.4627026845813, 16.037102338202374), (73.4...  \n",
       "1  [(71.70375251096965, 20.999582290490366), (71....  \n",
       "2  [(77.09361369721444, 28.86939745742677), (77.1...  "
      ]
     },
     "execution_count": 3,
     "metadata": {},
     "output_type": "execute_result"
    }
   ],
   "source": [
    "df = pd.read_csv('state_data_with_co-ordinates.csv')\n",
    "df.head(3)"
   ]
  },
  {
   "cell_type": "code",
   "execution_count": 17,
   "metadata": {},
   "outputs": [],
   "source": []
  }
 ],
 "metadata": {
  "kernelspec": {
   "display_name": "Python 3",
   "language": "python",
   "name": "python3"
  },
  "language_info": {
   "codemirror_mode": {
    "name": "ipython",
    "version": 3
   },
   "file_extension": ".py",
   "mimetype": "text/x-python",
   "name": "python",
   "nbconvert_exporter": "python",
   "pygments_lexer": "ipython3",
   "version": "3.6.9"
  }
 },
 "nbformat": 4,
 "nbformat_minor": 4
}
